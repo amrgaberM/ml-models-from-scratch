{
  "nbformat": 4,
  "nbformat_minor": 0,
  "metadata": {
    "colab": {
      "provenance": []
    },
    "kernelspec": {
      "name": "python3",
      "display_name": "Python 3"
    },
    "language_info": {
      "name": "python"
    }
  },
  "cells": [
    {
      "cell_type": "code",
      "source": [
        "import numpy as np\n",
        "\n",
        "# Step 1: Define X and y (simple 1D example)\n",
        "\n",
        "# Step 2: Initialize w and b\n",
        "\n",
        "# Step 3: Set learning_rate, n_iters\n",
        "\n",
        "# Step 4: Loop for n_iters\n",
        "    # Predict y_hat = X.dot(w) + b\n",
        "    # Compute loss (MSE)\n",
        "    # Compute gradients\n",
        "    # Update w and b\n",
        "    # Print every 100 steps\n",
        "\n",
        "# Step 5: Print final weights and bias\n"
      ],
      "metadata": {
        "id": "6tKzy2ydTx4e"
      },
      "execution_count": 7,
      "outputs": []
    },
    {
      "cell_type": "code",
      "source": [
        "import numpy as np\n",
        "\n",
        "# 1. Define x and y\n",
        "x = np.array([[1], [2], [3], [4], [5]])\n",
        "y = np.array([3, 5, 7, 9, 11])  # y = 2x + 1\n",
        "\n",
        "# 2. Initialize w and b\n",
        "w = np.zeros((1,))\n",
        "b = 0.0\n",
        "\n",
        "# 3. Set learning rate and number of iterations\n",
        "learning_rate = 0.01\n",
        "n_iters = 1000\n",
        "n_samples = x.shape[0]\n",
        "\n",
        "# 4. Gradient Descent Loop\n",
        "for i in range(n_iters):\n",
        "    y_pred = x.dot(w) + b\n",
        "    loss = np.mean((y - y_pred) ** 2)\n",
        "\n",
        "    dw = (1 / n_samples) * np.dot(x.T, (y_pred - y))\n",
        "    db = (1 / n_samples) * np.sum(y_pred - y)\n",
        "\n",
        "    w = w - learning_rate * dw\n",
        "    b = b - learning_rate * db\n",
        "\n",
        "    if i % 100 == 0:\n",
        "        print(f\"Iteration {i}: Loss={loss:.4f}, w={w[0]:.4f}, b={b:.4f}\")\n",
        "\n",
        "# 5. Final output\n",
        "print(f\"\\n Final weights: w = {w[0]:.4f}, b = {b:.4f}\")\n"
      ],
      "metadata": {
        "colab": {
          "base_uri": "https://localhost:8080/"
        },
        "id": "p2N3-KSFOqzS",
        "outputId": "25ea755c-4f78-42d7-97f6-e2336f93c4d4"
      },
      "execution_count": 6,
      "outputs": [
        {
          "output_type": "stream",
          "name": "stdout",
          "text": [
            "Iteration 0: Loss=57.0000, w=0.2500, b=0.0700\n",
            "Iteration 100: Loss=0.0223, w=2.0967, b=0.6508\n",
            "Iteration 200: Loss=0.0159, w=2.0817, b=0.7052\n",
            "Iteration 300: Loss=0.0113, w=2.0690, b=0.7511\n",
            "Iteration 400: Loss=0.0081, w=2.0582, b=0.7898\n",
            "Iteration 500: Loss=0.0058, w=2.0492, b=0.8225\n",
            "Iteration 600: Loss=0.0041, w=2.0415, b=0.8502\n",
            "Iteration 700: Loss=0.0029, w=2.0350, b=0.8735\n",
            "Iteration 800: Loss=0.0021, w=2.0296, b=0.8932\n",
            "Iteration 900: Loss=0.0015, w=2.0250, b=0.9098\n",
            "\n",
            " Final weights: w = 2.0211, b = 0.9237\n"
          ]
        }
      ]
    }
  ]
}