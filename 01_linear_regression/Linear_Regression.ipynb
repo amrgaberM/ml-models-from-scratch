{
  "nbformat": 4,
  "nbformat_minor": 0,
  "metadata": {
    "colab": {
      "provenance": []
    },
    "kernelspec": {
      "name": "python3",
      "display_name": "Python 3"
    },
    "language_info": {
      "name": "python"
    }
  },
  "cells": [
    {
      "cell_type": "code",
      "execution_count": 2,
      "metadata": {
        "id": "cO0a_lQFT_6t"
      },
      "outputs": [],
      "source": [
        "import numpy as np\n",
        "\n",
        "class linearRegressionScratch:\n",
        "\n",
        "  def __init__(self, Learning_Rate=0.01, n_iters=1000, verbose=False):\n",
        "    self.Learning_Rate=Learning_Rate\n",
        "    self.n_iters=n_iters\n",
        "    self.verbose=verbose\n",
        "    self.w=None\n",
        "    self.b=None\n",
        "\n",
        "  def fit(self,x,y):\n",
        "    if x.ndim==1:\n",
        "      x=x.reshape(-1,1)\n",
        "    n_sample,n_fearures=x.shape\n",
        "    self.w=np.zeros(n_fearures)\n",
        "    self.b=0\n",
        "    for i in range(self.n_iters):\n",
        "      y_pred=np.dot(x,self.w)+self.b\n",
        "      dw=(1/self.n_samples) * np.dot(x.T,(y_pred-y))\n",
        "      db=(1/self.n_samples) * np.sum(y_pred-y)\n",
        "\n",
        "      self.w-=self.Learning_Rate * dw\n",
        "      self.b-=self.Learning_Rate * db\n",
        "\n",
        "      if self.verbose and i % 100 ==0:\n",
        "        loss=np.mean((y-y_pred)**2)\n",
        "        print(f\"Iteration {i}: Loss={loss:.4f}, w={self.w}, b={self.b:.4f}\")\n",
        "  def predict(self,x):\n",
        "    if x.ndim==1:\n",
        "      x=x.reshape(-1,1)\n",
        "    return np.dot(x,self.w) + self.b"
      ]
    },
    {
      "cell_type": "code",
      "source": [],
      "metadata": {
        "id": "8wRUM2jBUQrj"
      },
      "execution_count": null,
      "outputs": []
    }
  ]
}